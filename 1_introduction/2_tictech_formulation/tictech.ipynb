{
 "cells": [
  {
   "cell_type": "markdown",
   "metadata": {},
   "source": [
    "# TicTech\n",
    "\n",
    "Mr. Mip has been contacted by *TicTech*, an organization that is now going through a digital transformation and needs to make an important decision. They need to decide on the right type of technology that will support them making complex decisions as their business grow.\n",
    "\n",
    "After reading a [blog](https://medium.com/opex-analytics/purpose-built-apps-for-enterprise-decision-making-31ccadad362d) about technologies for decision-making, Mr. Mip arrived at three options:\n",
    "1. Consulting services\n",
    "2. Off-the-shelf software\n",
    "3. Purpose-built web applications (Apps)\n",
    "\n",
    "By analyzing pos and cons of each technology in the context of TicTech, Mr. Mip derived in collaboration with the client a score to each technology as follows: \n",
    "\n",
    "| **Technology ID** | **Technology** | **Score** |\n",
    "|:-----------------:|:---------------|:---------:|\n",
    "|         1         | Consulting     |    12     |\n",
    "|         2         | Software       |    17     |\n",
    "|         3         | Apps           |    25     |\n",
    "\n",
    "\n",
    "What technology should be selected?\n",
    "\n",
    "Assuming that Mr. Mip can only recommend one technology and the goal is to maximize the score, it’s obvious that TicTech should choose apps. \n",
    "\n",
    "Now, let’s see how to model this problem using mathematical formulation."
   ]
  },
  {
   "cell_type": "markdown",
   "metadata": {},
   "source": [
    "## Formulation\n",
    "A formulation is nothing but a very precise representation of the business problem in mathematical terms.\n",
    "\n",
    "It typically has three main components:\n",
    "1.\tDecision variables\n",
    "2.\tConstraints\n",
    "3.\tObjective function"
   ]
  },
  {
   "cell_type": "markdown",
   "metadata": {},
   "source": [
    "### Decision Variables\n",
    "While there might be multiples ways to define the decision variables, choosing a good set of variables is crucial. Because, once the variables are defined, constraints and the objective are defined as functions of it.\n",
    "\n",
    "For this problem, Mr. Mip defined three binary variables:\n",
    "\n",
    "- $x_1$\t- Equals $1$ if consulting is chosen, $0$ otherwise.\n",
    "- $x_2$\t- Equals $1$ if off-the-shelf software is chosen, $0$ otherwise.\n",
    "- $x_3$\t- Equals $1$ if purpose-built apps are chosen, $0$ otherwise."
   ]
  },
  {
   "cell_type": "markdown",
   "metadata": {},
   "source": [
    "### Constraints\n",
    "In this example, there is only one requirement: one, and only one, technology must be chosen.\n",
    "Mr. Mip formulated this requirement using a single constraint.\n",
    "\n",
    "* Exactly one technology:\n",
    "$$x_1+x_2+x_3=1.$$\n",
    "\n",
    "Take a moment to think why this equation does the work. Remember that each variable can only take the values $0$ or $1$ and analyse all the possible combinations.\n",
    "\n",
    "Can you think of an alternative way to formulate this? There is a hint$^{**}$ at the end of this document if you need."
   ]
  },
  {
   "cell_type": "markdown",
   "metadata": {},
   "source": [
    "### Objective\n",
    "The objective of this problem is to maximize the score, which Mr. Mip formulated as following.\n",
    "\n",
    "$$\\max{12x_1 + 17x_2 + 25x_3}.$$\n",
    "\n",
    "Take another moment to think why this objective function does the work."
   ]
  },
  {
   "cell_type": "markdown",
   "metadata": {},
   "source": [
    "### Final Formulation\n",
    "Putting all together, Mr. Mip arrived at the following formulation.\n",
    "$$\n",
    "\\begin{align*}\n",
    "\\max & \\quad 12x_1+17x_2+25x_3\\\\\n",
    "\\text{s.t.} & \\quad x_1+x_2+x_3 =1\\\\\n",
    "&x_1, x_2, x_3 \\in \\{0, 1\\}.\n",
    "\\end{align*}\n",
    "$$\n",
    "\n",
    "🗒️ **Note:** \n",
    "*The \"s.t.\" is an abbreviation for \"subject to\", meaning that we are minimizing the given objective subject to the constraint(s) that follow.* "
   ]
  },
  {
   "cell_type": "markdown",
   "metadata": {},
   "source": [
    "## Challenge Yourself\n",
    "Convince yourself that the following are also correct formulations for the TicTech problem.\n",
    "\n",
    "- Formulation 1:\n",
    "    $$\n",
    "    \\begin{align*}\n",
    "    \\max & \\quad 12x_1+17x_2+25x_3\\\\\n",
    "    \\text{s.t.} & \\quad x_1+x_2+x_3 \\leq 1\\\\\n",
    "    &x_1, x_2, x_3 \\in \\{0, 1\\}.\n",
    "    \\end{align*}\n",
    "    $$\n",
    "- Formulation 2:\n",
    "    $$\n",
    "    \\begin{align*}\n",
    "    \\max & \\quad 12x_1+17x_2+25x_3\\\\\n",
    "    \\text{s.t.} & \\quad x_1+x_2 \\leq 1\\\\\n",
    "    & x_1+x_3 \\leq 1\\\\\n",
    "    & x_2+x_3 \\leq 1\\\\\n",
    "    &x_1, x_2, x_3 \\in \\{0, 1\\}.\n",
    "    \\end{align*}\n",
    "    $$"
   ]
  },
  {
   "cell_type": "markdown",
   "metadata": {},
   "source": [
    "## Takeaways\n",
    "1.\tThere are three major steps in solving problems using MIP:\n",
    "    1.\tUnderstanding the problem.\n",
    "    2.\tWriting a mathematical formulation.\n",
    "    3.\tImplementing and solving the optimization model.\n",
    "2.\tA typical formulation has three main components:\n",
    "    1.\tDecision variables\n",
    "    2.\tConstraints\n",
    "    3.\tObjective function\n",
    "3.\tThere may be multiple ways to formulate and solve the same problem."
   ]
  },
  {
   "cell_type": "markdown",
   "metadata": {},
   "source": [
    "------------------------------------------------------------------------------\n",
    "** How about using three constraints, involving two variables each?"
   ]
  }
 ],
 "metadata": {
  "kernelspec": {
   "display_name": "Python 3 (ipykernel)",
   "language": "python",
   "name": "python3"
  },
  "language_info": {
   "codemirror_mode": {
    "name": "ipython",
    "version": 3
   },
   "file_extension": ".py",
   "mimetype": "text/x-python",
   "name": "python",
   "nbconvert_exporter": "python",
   "pygments_lexer": "ipython3",
   "version": "3.9.5"
  }
 },
 "nbformat": 4,
 "nbformat_minor": 2
}
