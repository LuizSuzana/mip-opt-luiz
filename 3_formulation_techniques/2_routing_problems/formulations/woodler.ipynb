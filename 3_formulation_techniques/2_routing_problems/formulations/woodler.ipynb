{
 "cells": [
  {
   "cell_type": "markdown",
   "metadata": {},
   "source": [
    "# Woodler Formulation\n",
    "\n",
    "Statement of the use case: https://www.mipwise.com/use-cases/woodler\n",
    "\n",
    "\n",
    "## Formulation\n",
    "\n",
    "\n",
    "### Input Data Model\n",
    "\n",
    "#### Indices\n",
    "- $I$: Collection of sites.\n",
    "- $K$: Collection of trucks.\n",
    "- $L$: Collection of orders.\n",
    "\n",
    "#### Parameters\n",
    "* $u_k$: Capacity of truck $k$.\n",
    "* $cf_k$: Fixed cost of truck $k$.\n",
    "* $cv_k$: Variable cost of truck $k$.\n",
    "* $v_{l}$: Volume of order $l$.\n",
    "* $s_{l}$: Site of order $l$.\n",
    "* $td_{ij}$: Transit distance from site $i$ to $j$.\n",
    "* $tt_{ij}$: Transit time from site $i$ to $j$."
   ]
  },
  {
   "cell_type": "markdown",
   "metadata": {},
   "source": [
    "### Decision Variables\n",
    "* $x_{ijk}$: Equal $1$ if truck $k$ goes from site $i$ to site $j$.\n",
    "* $y_{kl}$:\n",
    "* $z_k$:\n",
    "\n",
    "**OBS.: This formulation is incomplete**\n"
   ]
  },
  {
   "cell_type": "markdown",
   "metadata": {},
   "source": [
    "### Constraints\n",
    "\n",
    "* C1) Every truck departs from the DC:\n",
    "\n",
    "\n",
    "* C2) At most one origin:\n",
    "$$\\sum_i x_{ijk} \\leq 1, \\quad \\forall k, j.$$\n",
    "\n",
    "* C3) At most one destination:\n",
    "$$\\sum_j x_{ijk} \\leq 1, \\quad \\forall k, i.$$\n",
    "\n",
    "* C4) Flow balance:\n",
    "$$\\sum_i x_{ihk} = \\sum_j x_{hjk}, \\quad \\forall k, h\\in I.$$\n",
    "\n",
    "* C5) Must deliver every order:\n",
    "\n",
    "\n",
    "* C6) Relationship between $y$ and $x$:\n",
    "\n",
    "\n",
    "* C7) Relationship between $y$ and $z$:\n",
    "\n",
    "\n",
    "* C8) Truck capacity:\n",
    "\n"
   ]
  },
  {
   "cell_type": "markdown",
   "metadata": {},
   "source": [
    "\n",
    "### Objective\n",
    "The objective is to minimize the total cost.\n",
    "* $\\text{fixed_cost} = \\text{TO DO}$\n",
    "* $\\text{variable_cost} = \\sum_{ijk} cv_ktd_{ij}x_{ijk}$\n",
    "$$\\min{\\text{fixed_cost} + \\text{variable_cost}}.$$\n"
   ]
  }
 ],
 "metadata": {
  "kernelspec": {
   "display_name": "Python 3 (ipykernel)",
   "language": "python",
   "name": "python3"
  },
  "language_info": {
   "codemirror_mode": {
    "name": "ipython",
    "version": 3
   },
   "file_extension": ".py",
   "mimetype": "text/x-python",
   "name": "python",
   "nbconvert_exporter": "python",
   "pygments_lexer": "ipython3",
   "version": "3.9.5"
  }
 },
 "nbformat": 4,
 "nbformat_minor": 2
}
