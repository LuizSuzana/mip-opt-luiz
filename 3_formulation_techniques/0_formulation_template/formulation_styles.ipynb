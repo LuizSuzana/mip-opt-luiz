{
 "cells": [
  {
   "cell_type": "markdown",
   "metadata": {},
   "source": [
    "# Example of Formulation Styles\n",
    "\n",
    "We have written the same formulation using different styles commonly used in the literature. The point we want to make here is that we should always aim fo the cleanest design. Formulations are typically complicated enough, so no need to make them look even more complicated."
   ]
  },
  {
   "cell_type": "markdown",
   "metadata": {},
   "source": [
    "### Greek Letters 🙁\n",
    "$$\n",
    "\\begin{eqnarray*}\n",
    "\\begin{array}{rcl}\n",
    "&\\min & \\displaystyle\\sum_{j=1}^m\\sum_{\\tau=0}^T \\gamma_{j\\tau} \\cdot \\xi_{j\\tau}\\\\\n",
    "&\\text{s.t.} & \\displaystyle\\sum_{j=1}^m \\psi_{ij\\tau} \\geq \\delta_{i\\tau}, \\quad \\forall i=1,\\cdots,n, \\forall \\tau=1, \\cdots, T,\\\\\n",
    "&&\\displaystyle\\sum_{i=1}^n \\psi_{ij\\tau} \\leq M \\cdot \\xi_{j\\tau}, \\quad \\forall j=1, \\cdots, m, \\forall \\tau=1, \\cdots, T,\\\\\n",
    "&&\\psi_{ij\\tau} \\geq 0, \\quad \\forall i=1, \\cdots,n, \\forall j=1, \\cdots, m, \\forall \\tau=1, \\cdots, T,\\\\\n",
    "&&\\xi_{j\\tau} \\in \\{0, 1\\}, \\quad \\forall j=1, \\cdots, m, \\forall \\tau=1, \\cdots, T,.\n",
    "\\end{array}\n",
    "\\end{eqnarray*}\n",
    "$$\n",
    "\n",
    "The Greek letters make the formulation sound much more complicated than it actually is.\n",
    "\n",
    "Things get worse when we go to the implementation becuase in the code you need to read the Latin name of the Greek letter. The following is how you would read the same expression in the formulation and in the code:\n",
    "$$\\gamma_{j\\tau} \\cdot \\xi_{j\\tau} \\quad \\rightarrow \\quad gamma[j, tau] * xi[j, tau].$$\n",
    "But if you use less fancy notation, the same expression would become:\n",
    "$$c_{jt} \\cdot x_{jt} \\quad \\rightarrow \\quad c[j, t] * x[j, t].$$\n",
    "\n",
    "Some people might arguee that they use Greek letters to distinguish decision variables from parameters. However, we can accumplish the same by using Latin letters only, just reserve some latters such as $x$, $y$, $z$, and $w$ to always denote decision varaibles.\n",
    "\n",
    "So, unless you have a strong reason (for example, if a certain Greek-based notation is consistently used in the literature by the research community that you want to collaborate with), avoid fancy notation a much as you can."
   ]
  },
  {
   "cell_type": "markdown",
   "metadata": {},
   "source": [
    "### Captital Letters 🙁\n",
    "$$\n",
    "\\begin{eqnarray*}\n",
    "\\begin{array}{rcl}\n",
    "&\\min & \\displaystyle\\sum_{j=1}^m\\sum_{t=0}^T c_{jt} \\cdot X_{jt}\\\\\n",
    "&\\text{s.t.} & \\displaystyle\\sum_{j=1}^m Y_{ijt} \\geq d_{it}, \\quad \\forall i=1,\\cdots,n, \\forall t=1, \\cdots, T,\\\\\n",
    "&&\\displaystyle\\sum_{i=1}^n Y_{ijt} \\leq M \\cdot X_{jt}, \\quad \\forall j=1, \\cdots, m, \\forall t=1, \\cdots, T,\\\\\n",
    "&&Y_{ijt} \\geq 0, \\quad \\forall i=1, \\cdots,n, \\forall j=1, \\cdots, m, \\forall t=1, \\cdots, T,\\\\\n",
    "&&X_{jt} \\in \\{0, 1\\}, \\quad \\forall j=1, \\cdots, m, \\forall t=1, \\cdots, T,.\n",
    "\\end{array}\n",
    "\\end{eqnarray*}\n",
    "$$\n",
    "This formulation looks much cleaner compared to the Greek one. However, there is typically no need to use capital letters like this. In fact, in Mathamatics and Operations Research, capital letters are generally used to denote matrices, which is clearly not the case here. There will be excpetions, of course. The capital $M$, for instance, represents a constant in this formulation, the so-called big-M."
   ]
  },
  {
   "cell_type": "markdown",
   "metadata": {},
   "source": [
    "### Superscripts 🙁\n",
    "$$\n",
    "\\begin{eqnarray*}\n",
    "\\begin{array}{rcl}\n",
    "&\\min & \\displaystyle\\sum_{j=1}^m\\sum_{t=0}^T c_j^t \\cdot x_j^t\\\\\n",
    "&\\text{s.t.} & \\displaystyle\\sum_{j=1}^m y_{ij}^t \\geq d_i^t, \\quad \\forall i=1,\\cdots,n, \\forall t=1, \\cdots, T,\\\\\n",
    "&&\\displaystyle\\sum_{i=1}^n y_{ij}^t \\leq M \\cdot x_j^t, \\quad \\forall j=1, \\cdots, m, \\forall t, \\cdots, T,\\\\\n",
    "&&y_{ij}^t \\geq 0, \\quad \\forall i=1, \\cdots,n, \\forall j=1, \\cdots, m, \\forall t, \\cdots, T,\\\\\n",
    "&&x_j^t \\in \\{0, 1\\}, \\quad \\forall j=1, \\cdots, m, \\forall t, \\cdots, T,.\n",
    "\\end{array}\n",
    "\\end{eqnarray*}\n",
    "$$\n",
    "Some poeple like to use superscripts like in this formulation. It can be helpful in some very especial cases if used properly. But we strongly discurage anyone from using superscript unless they have a good reason to use it. \n",
    "\n",
    "Similar to Greek letters, superscripts make the formulation look over complicated. In addition, how would you distinglish between super and subscripts in the code? It can actually be a source of confusion and, as a result, increase the chances of having bugs."
   ]
  },
  {
   "cell_type": "markdown",
   "metadata": {},
   "source": [
    "### In-set Indices 🙂\n",
    "$$\n",
    "\\begin{eqnarray*}\n",
    "\\begin{array}{rcl}\n",
    "&\\min & \\displaystyle\\sum_{j\\in J} \\displaystyle\\sum_{t\\in T} c_{jt} \\cdot y_{jt}\\\\\n",
    "&\\text{s.t.} & \\displaystyle\\sum_j x_{ijt} \\geq d_{it}, \\quad \\forall i \\in I, t\\in T,\\\\\n",
    "&&\\displaystyle\\sum_i x_{ijt} \\leq M \\cdot y_{jt}, \\quad \\forall j \\in J, t \\in T,\\\\\n",
    "&&x_{ijt} \\geq 0, \\quad \\forall i \\in I, j \\in J, t \\in T,\\\\\n",
    "&&y_{jt} \\in \\{0, 1\\}, \\quad \\forall j \\in J, t \\in T.\n",
    "\\end{array}\n",
    "\\end{eqnarray*}\n",
    "$$\n",
    "A long time ago, people use to explicitly define the cost vector, matrix of coefficients, and right-hand-side vector to implement an optimization model. This used to be actually required in some programming/modeling lenguage. \n",
    "\n",
    "In those case, it would make sense to define indices as a range, for example, $i=1, \\cdots, n$, would represent the columns of the matrix.\n",
    "\n",
    "The solvers evolved to a point where implementing the constraints down as they appear in the formulation became possible. With that, came the flexibility of defining indices not necessarily as a contiguous sequence of integers but any set of integers or even strings.\n",
    "\n",
    "One major advantage of using strings as indices is that they can carry information from the context that the problems instance comes from. For example, $I=\\{FL1, NY1, CA1, CA2\\}$ might be the IDs of candidate facilities and from the string we know in which state the facility is located. This can be extremely useful when debugging a model.\n",
    "\n",
    "However, it's important to keep in mind that using lengthy strings as indices can hurt the performance of the solver becuase it may consume unecessary memory."
   ]
  },
  {
   "cell_type": "markdown",
   "metadata": {},
   "source": [
    "### Cleanest Formulation 😀\n",
    "$$\n",
    "\\begin{eqnarray*}\n",
    "\\begin{array}{rcl}\n",
    "&\\min & \\displaystyle\\sum_{j,t} c_{jt} \\cdot y_{jt}\\\\\n",
    "&\\text{s.t.} & \\displaystyle\\sum_j x_{ijt} \\geq d_{it}, \\quad \\forall i, t,\\\\\n",
    "&&\\displaystyle\\sum_i x_{ijt} \\leq M \\cdot y_{jt}, \\quad \\forall j, t,\\\\\n",
    "&&x_{ijt} \\geq 0, \\quad \\forall i, j, t,\\\\\n",
    "&&y_{jt} \\in \\{0, 1\\}, \\quad \\forall j, t.\n",
    "\\end{array}\n",
    "\\end{eqnarray*}\n",
    "$$\n",
    "This formulation is the cleanest of all. Some people might say that this formulation is not very precise because we are not specifying the sets that the indices belong to. However, if we properly define the sets $I, J$ and $T$ beforehand and use $i\\in I, j\\in J$ and $t\\in T$ consistently, this formulation is as precise as it can be.\n",
    "\n",
    "> \"*Perfection is achieved, not when there is nothing more to add, but when there is nothing left to take away.*\"  \n",
    "Antoine de Saint-Exupéry, Airman's Odyssey\n",
    "\n",
    "You can find more details of how to consistently write clean and professional formulations in our proposed [template](https://github.com/mipwise/mip-opt/tree/master/3_formulation_techniques/0_formulation_template/formulation_template.ipynb)."
   ]
  }
 ],
 "metadata": {
  "kernelspec": {
   "display_name": "Python 3 (ipykernel)",
   "language": "python",
   "name": "python3"
  },
  "language_info": {
   "codemirror_mode": {
    "name": "ipython",
    "version": 3
   },
   "file_extension": ".py",
   "mimetype": "text/x-python",
   "name": "python",
   "nbconvert_exporter": "python",
   "pygments_lexer": "ipython3",
   "version": "3.9.5"
  }
 },
 "nbformat": 4,
 "nbformat_minor": 2
}
