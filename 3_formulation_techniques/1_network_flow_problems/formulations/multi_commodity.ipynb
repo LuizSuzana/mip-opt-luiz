{
 "cells": [
  {
   "cell_type": "markdown",
   "metadata": {},
   "source": [
    "# Formulation Mip Ex - Multi-commodity\n",
    "![MipEx](../docs/MipEx.png)"
   ]
  },
  {
   "cell_type": "markdown",
   "metadata": {},
   "source": [
    "### Input Data Model\n"
   ]
  },
  {
   "cell_type": "markdown",
   "metadata": {},
   "source": [
    "#### Indices\n",
    "- $I$: Collection of sites.\n",
    "- $S$: Collection of stations.\n",
    "- $H$: Collection of hubs.\n",
    "- $K$: Collection of commodities."
   ]
  },
  {
   "cell_type": "markdown",
   "metadata": {},
   "source": [
    "#### Parameters\n",
    "- $tc_{ij}$: Transit cost (Km) from Site $i$ to Site $j$.\n",
    "- $ac_{k}$:  Additional transportation cost (percentage) to ship Commodity $k$.\n",
    "- $au_{ij}$: Capacity (in number of truck) on arc ($i$, $j$).\n",
    "- $su_{ik}$: Supply of commodity $k$ at Site $i$.\n",
    "- $dm_{jk}$: Demand of commodity $k$ at Site $j$."
   ]
  },
  {
   "cell_type": "markdown",
   "metadata": {},
   "source": [
    "### Decision Variables\n",
    "- $x_{ijk}$:\tNumber of trucks that take Commodity $k$ from Site $i$ to Site $j$."
   ]
  },
  {
   "cell_type": "markdown",
   "metadata": {},
   "source": [
    "### Constraints\n",
    "* C1) Conservation of flow:\n",
    "$$su_{sk} + \\sum_i x_{isk} = dm_{sk} + \\sum_j x_{sjk}, \\quad \\forall s \\in I, \\forall k.$$\n",
    "\n",
    "* C2) Arcs capacity:\n",
    "$$\\sum_k x_{ijk} \\leq au_{ij}, \\quad \\forall i, j.$$"
   ]
  },
  {
   "cell_type": "markdown",
   "metadata": {},
   "source": [
    "### Objective\n",
    "The goal is to minimize the total transportation cost:\n",
    "$$\\min{\\sum_{ijk} (1+ac_k) \\cdot tc_{ij} \\cdot x_{ijk}}.$$"
   ]
  }
 ],
 "metadata": {
  "kernelspec": {
   "display_name": "Python 3 (ipykernel)",
   "language": "python",
   "name": "python3"
  },
  "language_info": {
   "codemirror_mode": {
    "name": "ipython",
    "version": 3
   },
   "file_extension": ".py",
   "mimetype": "text/x-python",
   "name": "python",
   "nbconvert_exporter": "python",
   "pygments_lexer": "ipython3",
   "version": "3.9.5"
  }
 },
 "nbformat": 4,
 "nbformat_minor": 2
}
