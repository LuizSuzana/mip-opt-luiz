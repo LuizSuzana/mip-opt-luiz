{
 "cells": [
  {
   "cell_type": "markdown",
   "metadata": {},
   "source": [
    "# Formulation Mip Ex - Multi-commodity\n",
    "\n",
    "![MipEx](../docs/MipEx.png)\n",
    "\n",
    "The formulation presented here is the so-called arc-based formulation. In fact, decision variables are defined for each arc of the network. Feasible flow paths are then implicitly defined with the flow balance constraints.\n",
    "\n",
    "While the arc-based formulation is quite clean and intuitive, it may not perform very well in practice for large-scale problems, especially as more complexities are added to the model.\n",
    "\n",
    "One alternative to the arc-based formulation is the so-called path-based formulation. In this case, the set of feasible paths for each origin-destination must be given as input. The decision is then to decide which path to choose. As one can imagine, the challenge with this approach is to generate all feasible paths. There can be an astronomical number of them depending on the size of the network.\n",
    "\n",
    "In practice, however, there are ways (or even strong reasons, in some cases) to restrict the number of arcs that are generated and fed to the model. While restricting the number of paths can yield suboptimal solutions, it also gives the flexibility to strike a trade-off between accuracy and tractability.\n",
    "\n",
    "In the end, the right approach depends a lot on the specific use case, and the final conclusion requires systematic experimentation."
   ]
  },
  {
   "cell_type": "markdown",
   "metadata": {},
   "source": [
    "### Input Data Model\n"
   ]
  },
  {
   "cell_type": "markdown",
   "metadata": {},
   "source": [
    "#### Indices\n",
    "- $I$: Collection of sites.\n",
    "- $S$: Collection of stations.\n",
    "- $H$: Collection of hubs.\n",
    "- $K$: Collection of commodities."
   ]
  },
  {
   "cell_type": "markdown",
   "metadata": {},
   "source": [
    "#### Parameters\n",
    "- $tc_{ij}$: Transit cost (Km) from Site $i$ to Site $j$.\n",
    "- $ac_{k}$:  Additional transportation cost (percentage) to ship Commodity $k$.\n",
    "- $au_{ij}$: Capacity (in number of truck) on arc ($i$, $j$).\n",
    "- $su_{ik}$: Supply of commodity $k$ at Site $i$.\n",
    "- $dm_{jk}$: Demand of commodity $k$ at Site $j$."
   ]
  },
  {
   "cell_type": "markdown",
   "metadata": {},
   "source": [
    "### Decision Variables\n",
    "- $x_{ijk}$:\tNumber of trucks that take Commodity $k$ from Site $i$ to Site $j$."
   ]
  },
  {
   "cell_type": "markdown",
   "metadata": {},
   "source": [
    "### Constraints\n",
    "* C1) Conservation of flow:\n",
    "$$su_{sk} + \\sum_i x_{isk} = dm_{sk} + \\sum_j x_{sjk}, \\quad \\forall s \\in I, \\forall k.$$\n",
    "\n",
    "* C2) Arcs capacity:\n",
    "$$\\sum_k x_{ijk} \\leq au_{ij}, \\quad \\forall i, j.$$"
   ]
  },
  {
   "cell_type": "markdown",
   "metadata": {},
   "source": [
    "### Objective\n",
    "The goal is to minimize the total transportation cost:\n",
    "$$\\min{\\sum_{ijk} (1+ac_k) \\cdot tc_{ij} \\cdot x_{ijk}}.$$"
   ]
  }
 ],
 "metadata": {
  "kernelspec": {
   "display_name": "Python 3 (ipykernel)",
   "language": "python",
   "name": "python3"
  },
  "language_info": {
   "codemirror_mode": {
    "name": "ipython",
    "version": 3
   },
   "file_extension": ".py",
   "mimetype": "text/x-python",
   "name": "python",
   "nbconvert_exporter": "python",
   "pygments_lexer": "ipython3",
   "version": "3.9.5"
  }
 },
 "nbformat": 4,
 "nbformat_minor": 2
}
