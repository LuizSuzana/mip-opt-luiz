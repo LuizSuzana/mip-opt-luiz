{
 "cells": [
  {
   "cell_type": "markdown",
   "id": "f568a268",
   "metadata": {},
   "source": [
    "# Linear Expressions\n",
    "\n",
    "In this notebook, we explain what is a linear expression and why we care about them when formulating optimization problems."
   ]
  },
  {
   "cell_type": "markdown",
   "id": "426e3ce2",
   "metadata": {},
   "source": [
    "## What is a linaer expression?\n",
    "It's a mathematical expression formed by a summation of terms, each of which defined by the multiplication of a number (possibly negative) by a decision variable. Here is an example:\n",
    "$$\n",
    "2x_1 + x_2 - 2.3x_3 + x_4 - 10.\n",
    "$$\n",
    "This expression could be part of an objective function or a constraint, such as in this example:\n",
    "$$\n",
    "2x_1 + x_2 - 2.3x_3 + x_4 \\leq 10.\n",
    "$$\n",
    "In its generic form, a linear expression looks like this:\n",
    "$$\n",
    "c_1x_1 + c_2x_2+\\cdots+c_nx_n+c_0,\n",
    "$$\n",
    "where $c_1, c_2, \\cdots, c_n$ are constants colled the *coefficients*, $x_1, x_2, \\cdots, x_n$ are variables/unknowns, and $c_0$ is a constant called *independent term* (which can be zero)."
   ]
  },
  {
   "cell_type": "markdown",
   "id": "cf49f609",
   "metadata": {},
   "source": [
    "## What is NOT a linear expression?\n",
    "Any expression that has multiplication of decision variables is not linear, or non-linear. Here is an example:\n",
    "$$\n",
    "3.5x_1 - 4x_2x_3 + x_3^2.\n",
    "$$\n",
    "This expression is not linear because of $x_2x_3$ in the second term and $x_3^2$ in the third term. In fact, this is a quadratic expression, i.e., a polynomial of degree two.\n",
    "\n",
    "The following expressions are also non-linear:\n",
    "$$\n",
    "3.5x_1 - 4\\frac{x_2}{x_3} + x_3.\n",
    "$$\n",
    "This time because of the fraction $\\frac{x_2}{x_3}$.\n",
    "\n",
    "Expressions that have variables in the argument of trigonometric, exponential, or logarithmic functions, for example, are also non-linear. Here are some examples:\n",
    "$$\n",
    "\\sin{x_1} + 8x_2\\\\\n",
    "-7.7x_1 - e^{3x_2} + 7\\\\\n",
    "x_1 + x_2 + \\log{x_3}\n",
    "$$\n",
    "\n",
    "Observe that coefficients can be in the argument of these non-linear functions. So the following example **is** a linear expression:\n",
    "$$\n",
    "\\sin{(4.5)}x_1 - e^{3}x_2 + \\log{(13)} x_3 - \\frac{3}{5}x_4.\n",
    "$$\n",
    "Here $c_1 = \\sin{(4.5)}$, $c_2 = -e^{3}$, $c_3 = \\log{(13)}$, and $c_4=-\\frac{3}{5}$."
   ]
  },
  {
   "cell_type": "markdown",
   "id": "ff8268e8",
   "metadata": {},
   "source": [
    "## What is the problem with non-linear expressions?\n",
    "In general, it's much harder to solve an optimization problem that involves non-linear expressions. \n",
    "\n",
    "Putting it in another way, optimization problems that contain only linear expressions have a structure that allows us to use efficient algorithms to solve, such as the Simplex Method.\n",
    "\n",
    "What if we can't formulate a problem using linear expressions only?\n",
    "\n",
    "In this case, we may still be able to solve the non-linear problem. For example, if we can formulate the problem using quadratic expressions and we have access to a solver that can handle quadratic programming.\n",
    "\n",
    "See [TODO](todo) for an example of a formulation that requires quadratic expressions.\n",
    "\n",
    "Alternatively, we may be able to linearize the problem or approximate it with linear functions.\n",
    "\n",
    "See [TODO](todo) for an example of a quadratic formulation that can be linearized.\n",
    "\n",
    "Also, See [TODO](todo) to learn how to formulate piecewise linear functions."
   ]
  }
 ],
 "metadata": {
  "kernelspec": {
   "display_name": "Python 3 (ipykernel)",
   "language": "python",
   "name": "python3"
  },
  "language_info": {
   "codemirror_mode": {
    "name": "ipython",
    "version": 3
   },
   "file_extension": ".py",
   "mimetype": "text/x-python",
   "name": "python",
   "nbconvert_exporter": "python",
   "pygments_lexer": "ipython3",
   "version": "3.9.5"
  }
 },
 "nbformat": 4,
 "nbformat_minor": 5
}
