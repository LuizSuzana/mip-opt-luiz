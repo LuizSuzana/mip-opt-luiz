{
 "cells": [
  {
   "cell_type": "markdown",
   "id": "fad9b266",
   "metadata": {},
   "source": [
    "# Logical Constraints\n",
    "One of the characteristics that makes mixed-integer linear programming (MILP)\n",
    "so powerful is its representativeness, meaning that there is a broad class of \n",
    "real-world situations that can be formulated using a mix of integer/binary\n",
    "and continuous decision variables and [linear expressions][linear_expressions].\n",
    "\n",
    "A good portion of this representativeness power comes from the fact that we\n",
    "can formulate lots of logical conditions, as you can see here.\n",
    "\n",
    "[linear_expressions]: linear_expressions.ipynb"
   ]
  },
  {
   "cell_type": "markdown",
   "id": "2c189e9c",
   "metadata": {},
   "source": [
    "## \"If-Then\"\n",
    "As the name suggests, \"If-Then\" constraints are useful to formulate direct\n",
    "implications. \n",
    "\n",
    "### Example 1\n",
    "In the [Ukulelor][Ukulelor] problem we had to formulate the following statement: \"If ship to retailer $i$, then ship at least $50$\". \n",
    "\n",
    "This was accumplished with the constraint:\n",
    "$$50 z_{i} \\leq x_i.$$\n",
    "Here, $x_{i}$ is the number of ukuleles shipped to retailer $i$, and $z_{i}$ equals $1$ if any ukulele gets shipped to retailer $i$, $0$ otherwise. \n",
    "\n",
    "So, if $z_i=1$, them $x_i$ gets lower bounded by $50$. \n",
    "\n",
    "It's also important to notice that this constraint has no \"side effect\", i.e., if $z_i=0$, them $x_i$ gets lower bounded by zero, which is suppose to happen anyway given the definition of $x_i$.\n",
    "\n",
    "### Generic formulation\n",
    "* If $f(x)> 0$, then $g(x) \\leq 0$\n",
    "* $M_f$ := upper bound on $f$\n",
    "* $M_g$ := upper bound on $g$\n",
    "\n",
    "$$\n",
    "f(x) \\leq M_f z\\\\\n",
    "g(x) \\leq M_g(1-z)\\\\\n",
    "z\\in \\{0, 1\\}\n",
    "$$\n",
    "\n",
    "\n",
    "[Ukulelor]: ../../mathematical_optimization/12_ukulelor/README.md"
   ]
  },
  {
   "cell_type": "markdown",
   "id": "95314584",
   "metadata": {},
   "source": [
    "## \"Either OR\"\n",
    "* Either $f(x)\\leq 0$ or $g(x) \\leq 0$\n",
    "* $M_f$ := upper bound on $f$\n",
    "* $M_g$ := upper bound on $g$\n",
    "\n",
    "$$\n",
    "f(x) \\leq M_f z\\\\\n",
    "g(x) \\leq M_g(1-z)\\\\\n",
    "z\\in \\{0, 1\\}\n",
    "$$"
   ]
  },
  {
   "cell_type": "markdown",
   "id": "3229e73c",
   "metadata": {},
   "source": [
    "## “And\" of 0-1 variables\n"
   ]
  },
  {
   "cell_type": "markdown",
   "id": "50e98500",
   "metadata": {},
   "source": [
    "## “Or\" of 0-1 variables\n"
   ]
  },
  {
   "cell_type": "markdown",
   "id": "86a17921",
   "metadata": {},
   "source": [
    "## “XOR\" of 0-1 variables\n"
   ]
  }
 ],
 "metadata": {
  "kernelspec": {
   "display_name": "Python 3 (ipykernel)",
   "language": "python",
   "name": "python3"
  },
  "language_info": {
   "codemirror_mode": {
    "name": "ipython",
    "version": 3
   },
   "file_extension": ".py",
   "mimetype": "text/x-python",
   "name": "python",
   "nbconvert_exporter": "python",
   "pygments_lexer": "ipython3",
   "version": "3.9.5"
  }
 },
 "nbformat": 4,
 "nbformat_minor": 5
}
