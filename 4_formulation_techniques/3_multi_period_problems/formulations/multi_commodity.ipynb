{
 "cells": [
  {
   "cell_type": "markdown",
   "metadata": {},
   "source": [
    "# Formulation Mip Ex - Multi-commodity\n",
    "\n",
    "![MipEx](../docs/MipEx.png)\n"
   ]
  },
  {
   "cell_type": "markdown",
   "metadata": {},
   "source": [
    "### Input Data Model\n"
   ]
  },
  {
   "cell_type": "markdown",
   "metadata": {},
   "source": [
    "#### Indices\n",
    "- $I$: Collection of sites.\n",
    "- $S$: Collection of stations.\n",
    "- $H$: Collection of hubs.\n",
    "- $K$: Collection of commodities.\n",
    "- $T$: Collection of time periods."
   ]
  },
  {
   "cell_type": "markdown",
   "metadata": {},
   "source": [
    "#### Parameters\n",
    "- $tc_{ij}$: Transit cost (Km) from Site $i$ to Site $j$.\n",
    "- $tt_{ij}$: Transit time (hrs) from Site $i$ to Site $j$.\n",
    "- $au_{ij}$: Capacity (in number of truck) on arc ($i$, $j$).\n",
    "- $su_{ikt}$: Supply of commodity $k$ at Site $i$ in Period $t$.\n",
    "- $dm_{jkt}$: Demand of commodity $k$ at Site $j$ in Period $t$."
   ]
  },
  {
   "cell_type": "markdown",
   "metadata": {},
   "source": [
    "### Decision Variables\n",
    "- $x_{ijkt}$:\tVolume (trucks) of Commodity $k$ that **depart** from Site $i$ to Site $j$ in Period $t$.\n",
    "- $y_{ijkt}$:\tVolume (trucks) of Commodity $k$ that **stays** at Site $i$ from Period $t$ to $t+1$.\n",
    "- $z_{ijt}$:\tNumber of trucks that **depart** from Site $i$ to Site $j$ in Period $t$."
   ]
  },
  {
   "cell_type": "markdown",
   "metadata": {},
   "source": [
    "### Constraints\n",
    "* C1) Conservation of flow:\n",
    "    $$su_{skt} + y_{sk,t-1} + \\sum_i x_{isk,t-tt_{is}} = dm_{skt} + y_{skt} + \\sum_j x_{sjkt}, \\quad \\forall s \\in I, k, t.$$\n",
    "\n",
    "* C2) Truck loads:\n",
    "    $$\\sum_k x_{ijkt} \\leq z_{ijt}, \\quad \\forall i, j, t.$$\n",
    "\n",
    "* C3) Arcs capacity:\n",
    "    $$z_{ijt} \\leq au_{ij}, \\quad \\forall i, j, t.$$"
   ]
  },
  {
   "cell_type": "markdown",
   "metadata": {},
   "source": [
    "### Objective\n",
    "The goal is to minimize the total transportation cost:\n",
    "$$\\min{\\sum_{ijt} tc_{ij} \\cdot z_{ijt}}.$$"
   ]
  }
 ],
 "metadata": {
  "kernelspec": {
   "display_name": "Python 3 (ipykernel)",
   "language": "python",
   "name": "python3"
  },
  "language_info": {
   "codemirror_mode": {
    "name": "ipython",
    "version": 3
   },
   "file_extension": ".py",
   "mimetype": "text/x-python",
   "name": "python",
   "nbconvert_exporter": "python",
   "pygments_lexer": "ipython3",
   "version": "3.9.5"
  }
 },
 "nbformat": 4,
 "nbformat_minor": 2
}
