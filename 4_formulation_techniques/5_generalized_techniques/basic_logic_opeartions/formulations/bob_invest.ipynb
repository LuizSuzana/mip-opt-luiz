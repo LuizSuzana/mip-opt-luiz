{
 "cells": [
  {
   "cell_type": "markdown",
   "metadata": {},
   "source": [
    "# Formulation Bob Invest\n"
   ]
  },
  {
   "cell_type": "markdown",
   "metadata": {},
   "source": [
    "### Input Data Model\n"
   ]
  },
  {
   "cell_type": "markdown",
   "metadata": {},
   "source": [
    "#### Indices\n",
    "- $I$: Collection of portfolios."
   ]
  },
  {
   "cell_type": "markdown",
   "metadata": {},
   "source": [
    "#### Parameters\n",
    "- $a_{i}$: Allocation (dollars) to Portfolio $i$.\n",
    "- $r_{i}$: Return (% ROI) of Portfolio $i$.\n",
    "- $b$: Total budget."
   ]
  },
  {
   "cell_type": "markdown",
   "metadata": {},
   "source": [
    "### Decision Variables\n",
    "- $x_{i}$:\tEquals $1$ if Portfolio $i$ is chosen, $0$ otherwise."
   ]
  },
  {
   "cell_type": "markdown",
   "metadata": {},
   "source": [
    "### Constraints\n",
    "* C1) Maximum budget:\n",
    "    $$\\sum_i x_i \\leq b.$$"
   ]
  },
  {
   "cell_type": "markdown",
   "metadata": {},
   "source": [
    "### Objective\n",
    "The goal is to maximize the total profit:\n",
    "$$\\min{\\sum_i \\left(1+\\frac{r_i}{100}\\right) \\cdot a_i \\cdot x_i - \\sum_i a_i \\cdot x_i}.$$\n",
    "\n",
    "Note that this expression can be simplified to the following:\n",
    "$$\\min{\\sum_i \\frac{r_i}{100} \\cdot a_i \\cdot x_i}.$$"
   ]
  },
  {
   "cell_type": "markdown",
   "metadata": {},
   "source": [
    "## Additional conditions\n",
    "\n",
    "* C2) If Bob invests in Portfolio 1, then he can't invest in Portfolio 2:\n",
    "    $$x_1 \\leq 1 - x_2.$$\n",
    "\n",
    "* C3) If Bob invests in Portfolio 4, then he must invest in Portfolio 1:\n",
    "    $$x_4 \\leq x_1.$$\n",
    "\n",
    "* C4) Bob must invest in either Portfolio 3 and 4 or neither:\n",
    "    $$x_3 = x_4.$$\n",
    "\n",
    "* C5) Bob must either invest in at least one of Portfolio 2 and 5 or in at least two of Portfolio 2, 4, and 5:\n",
    "    \n",
    "    First, we will define two aditional decision variables.\n",
    "    - $z_1$: Equals $1$ if, and only if, Bob invests in at least one of Portfolio 2 and 5.\n",
    "        - C5a)\n",
    "            $$x_2 + x_5 \\leq 2z_1,$$\n",
    "            $$z_1 \\leq x_2 + x_5.$$\n",
    "    - $z_2$: Equals $1$ if, and only if, Bob invests in at least two of Portfolio 2, 4, and 5.\n",
    "        - C5b)\n",
    "            $$x_2 + x_4  x_5 -1 \\leq 2z_2,$$\n",
    "            $$2z_2 \\leq x_2 + x_4  x_5.$$\n",
    "    \n",
    "    Finally, we enforce the required constraints on $z_1$ and $z_2$.\n",
    "    - C5c) Either the first condition or the second condition occurs:\n",
    "        $$z_1 + z_2 = 1.$$"
   ]
  }
 ],
 "metadata": {
  "kernelspec": {
   "display_name": "Python 3 (ipykernel)",
   "language": "python",
   "name": "python3"
  },
  "language_info": {
   "codemirror_mode": {
    "name": "ipython",
    "version": 3
   },
   "file_extension": ".py",
   "mimetype": "text/x-python",
   "name": "python",
   "nbconvert_exporter": "python",
   "pygments_lexer": "ipython3",
   "version": "3.8.8"
  }
 },
 "nbformat": 4,
 "nbformat_minor": 4
}
