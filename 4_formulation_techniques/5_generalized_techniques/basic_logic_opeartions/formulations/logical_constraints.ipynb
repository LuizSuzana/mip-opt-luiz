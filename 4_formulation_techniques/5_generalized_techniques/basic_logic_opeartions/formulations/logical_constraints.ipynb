{
 "cells": [
  {
   "cell_type": "markdown",
   "metadata": {},
   "source": [
    "# Formulation Logical Constraints\n"
   ]
  },
  {
   "cell_type": "markdown",
   "metadata": {},
   "source": [
    "We use the following definitions consistently throughout this document:\n",
    "\n",
    "* The largest value that the function $f(x)$ can take is $M_f$;\n",
    "* The largest value that the function $g(x)$ can take is $M_g$;\n",
    "\n",
    "Also, we say that a binary variable $x$ is \"on\" if $x=1$ and we say that it's \"off\" if $x=0$."
   ]
  },
  {
   "cell_type": "markdown",
   "metadata": {},
   "source": [
    "## \"If Then\""
   ]
  },
  {
   "cell_type": "markdown",
   "metadata": {},
   "source": [
    "#### **Example 1**\n",
    "Let $x_1$ and $x_2$ be two binary decision variables.\n",
    "\n",
    "If $x_1$ is on, then $x_2$ is off.\n",
    "\n",
    "**Formulation**\n",
    "$$x_2 \\leq 1 - x_1.$$\n"
   ]
  },
  {
   "cell_type": "markdown",
   "metadata": {},
   "source": [
    "#### **Example 2**\n",
    "Let $x_1, x_2$ and $x_3$ be binary decision variables.\n",
    "\n",
    "If both $x_1$ and $x_2$ are on, then $x_3$ is on.\n",
    "\n",
    "**Formulation**\n",
    "$$x_1 + x_2 - 1 \\leq x_3.$$\n"
   ]
  },
  {
   "cell_type": "markdown",
   "metadata": {},
   "source": [
    "#### **Example 3**\n",
    "Let $x_1, x_2, x_3$ and $x_4$ be binary decision variables.\n",
    "\n",
    "If at least two of $x_1, x_2$ and $x_3$ is on, then $x_4$ is on.\n",
    "\n",
    "**Formulation**\n",
    "TODO"
   ]
  },
  {
   "cell_type": "markdown",
   "metadata": {},
   "source": [
    "#### **Example 4**\n",
    "\n",
    "If $f(x) > 0$, then $g(x) \\leq 0$.\n",
    "\n",
    "**Formulation**\n",
    "\n",
    "We need to define an auxilary decision variable:\n",
    "- $z$: Equals $1$ if $f(x)>0$, $0$ otherwise.\n",
    "\n",
    "Then the requirement can be modeled as follows:\n",
    "$$f(x) \\leq M_f \\cdot z,$$\n",
    "$$g(x) \\leq M_g \\cdot (1-z).$$"
   ]
  },
  {
   "cell_type": "markdown",
   "metadata": {},
   "source": [
    "## \"Either Or\""
   ]
  },
  {
   "cell_type": "markdown",
   "metadata": {},
   "source": [
    "#### **Example 4**\n",
    "\n",
    "Either $f(x) \\leq 0$ or $g(x) \\leq 0$ (possibly both).\n",
    "\n",
    "**Formulation**\n",
    "\n",
    "We need to define an auxilary decision variable:\n",
    "- $z$: Equals $0$ if $f(x)$ must be non-negative and equals $1$ if $g(x)$ must be non-negative.\n",
    "\n",
    "Then the requirement can be modeled as follows:\n",
    "$$f(x) \\leq M_f \\cdot z,$$\n",
    "$$g(x) \\leq M_g \\cdot (1-z).$$"
   ]
  },
  {
   "cell_type": "markdown",
   "metadata": {},
   "source": [
    "## Semi-continuous Decision Variables"
   ]
  }
 ],
 "metadata": {
  "kernelspec": {
   "display_name": "Python 3 (ipykernel)",
   "language": "python",
   "name": "python3"
  },
  "language_info": {
   "codemirror_mode": {
    "name": "ipython",
    "version": 3
   },
   "file_extension": ".py",
   "mimetype": "text/x-python",
   "name": "python",
   "nbconvert_exporter": "python",
   "pygments_lexer": "ipython3",
   "version": "3.8.8"
  }
 },
 "nbformat": 4,
 "nbformat_minor": 4
}
