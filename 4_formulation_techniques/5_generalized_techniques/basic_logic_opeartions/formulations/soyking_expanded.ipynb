{
 "cells": [
  {
   "cell_type": "markdown",
   "metadata": {},
   "source": [
    "# Formulation SoyKing (expanded)\n"
   ]
  },
  {
   "cell_type": "markdown",
   "metadata": {},
   "source": [
    "### Input Data Model\n"
   ]
  },
  {
   "cell_type": "markdown",
   "metadata": {},
   "source": [
    "#### Indices\n",
    "- $I$: Collection of farms.\n",
    "- $J$: Collection of DCs."
   ]
  },
  {
   "cell_type": "markdown",
   "metadata": {},
   "source": [
    "#### Parameters\n",
    "- $au_{i}$: Maximum availability (tons) of soybean from Farm $i$.\n",
    "- $d_{j}$: Demand (tons) for soybean at DC $j$.\n",
    "- $c_{ij}$: Cost (dollar per ton) to ship soybeans from Farm $i$ to DC $j$."
   ]
  },
  {
   "cell_type": "markdown",
   "metadata": {},
   "source": [
    "### Decision Variables\n",
    "- $x_{ij}$:\tTons of soybean transferred from Farm $i$ to DC $j$."
   ]
  },
  {
   "cell_type": "markdown",
   "metadata": {},
   "source": [
    "### Constraints\n",
    "* C1) Amount shipped must not exceed the maximum availability of Farm $i$:\n",
    "$$\\sum_j x_{ij} \\leq au_i, \\quad \\forall i.$$\n",
    "\n",
    "* C2) Demand requirement at DC $j$:\n",
    "$$\\sum_i x_{ij} = d_j, \\quad \\forall j.$$"
   ]
  },
  {
   "cell_type": "markdown",
   "metadata": {},
   "source": [
    "### Objective\n",
    "The goal is to minimize the total transportation cost:\n",
    "$$\\min{\\sum_{i,j} c_{ij}\\cdot x_{ij}}.$$"
   ]
  },
  {
   "cell_type": "markdown",
   "metadata": {},
   "source": [
    "## Additional conditions\n",
    "\n",
    "### Additional Parameters:\n",
    "- $p_j$: Penalty (dollar per ton) for not meeting the demand of DC $j$.\n",
    "\n",
    "### Additional Decision Variables:\n",
    "- $y_{j}$:\tTons of soybeans not supplied to DC $j$.\n",
    "- $z_{ij}$:\tEquals $1$ if Farm $i$ ships any non-zero quantity to DC $j$.\n",
    "- $w_{j}$:\tEquals $1$ if the demand of DC $j$ is met fully, $0$ otherwise.\n",
    "\n",
    "### Additional Constraints:\n",
    "\n",
    "* AC1) If a given Farm decides to serve a given DC, then it must fulfill at least 20% of its demand:\n",
    "   $$0.2 \\cdot d_j \\cdot z_{ij} \\leq x_{ij}, \\quad \\forall i, j,$$\n",
    "   $$x_{ij} \\leq  d_j \\cdot z_{ij}, \\quad \\forall i, j.$$\n",
    "   \n",
    "* AC2) SoyKing does not have to meet the demand of all DCs in full. But for each ton of soybean demanded and not supplied, SoyKing pays a penalty as provided in the \"Not Supplying Penalty\" column of the \"demands\" table:  \n",
    "    To replace C2):\n",
    "    $$\\sum_i x_{ij} + y_j = d_j, \\quad \\forall j.$$\n",
    "    To replace the current objective function:\n",
    "    The goal now is to minimize the total transportation cost and total penalty:\n",
    "    $$\\min{\\sum_{i,j} c_{ij}\\cdot x_{ij} + \\sum_j p_j \\cdot y_j}.$$\n",
    "\n",
    "* AC3) At least four DCs must have its demand met in full:\n",
    "    $$4 \\leq \\sum_j w_j,$$\n",
    "    $$y_j \\leq d_j \\cdot (1 - w_j), \\quad \\forall j,$$\n",
    "    $$1 - w_j \\leq y_j, \\quad \\forall j.$$"
   ]
  }
 ],
 "metadata": {
  "kernelspec": {
   "display_name": "Python 3 (ipykernel)",
   "language": "python",
   "name": "python3"
  },
  "language_info": {
   "codemirror_mode": {
    "name": "ipython",
    "version": 3
   },
   "file_extension": ".py",
   "mimetype": "text/x-python",
   "name": "python",
   "nbconvert_exporter": "python",
   "pygments_lexer": "ipython3",
   "version": "3.8.8"
  }
 },
 "nbformat": 4,
 "nbformat_minor": 4
}
