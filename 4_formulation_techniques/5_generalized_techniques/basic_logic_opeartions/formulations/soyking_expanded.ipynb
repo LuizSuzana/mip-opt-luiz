{
 "cells": [
  {
   "cell_type": "markdown",
   "metadata": {},
   "source": [
    "# Formulation SoyKing (expanded)\n"
   ]
  },
  {
   "cell_type": "markdown",
   "metadata": {},
   "source": [
    "### Input Data Model\n"
   ]
  },
  {
   "cell_type": "markdown",
   "metadata": {},
   "source": [
    "#### Indices\n",
    "- $I$: Collection of farms.\n",
    "- $J$: Collection of DCs."
   ]
  },
  {
   "cell_type": "markdown",
   "metadata": {},
   "source": [
    "#### Parameters\n",
    "- $au_{i}$: Maximum availability (tons) of soybean from Farm $i$.\n",
    "- $d_{j}$: Demand (tons) for soybean at DC $j$.\n",
    "- $c_{ij}$: Cost (dollar per ton) to ship soybeans from Farm $i$ to DC $j$."
   ]
  },
  {
   "cell_type": "markdown",
   "metadata": {},
   "source": [
    "### Decision Variables\n",
    "- $x_{ij}$:\tTons of soybean transferred from Farm $i$ to DC $j$."
   ]
  },
  {
   "cell_type": "markdown",
   "metadata": {},
   "source": [
    "### Constraints\n",
    "* C1) Amount shipped must not exceed the maximum availability of Farm $i$:\n",
    "$$\\sum_j x_{ij} \\leq au_i, \\quad \\forall i.$$\n",
    "\n",
    "* C2) Demand requirement at DC $j$:\n",
    "$$\\sum_i x_{ij} = d_j, \\quad \\forall j.$$"
   ]
  },
  {
   "cell_type": "markdown",
   "metadata": {},
   "source": [
    "### Objective\n",
    "The goal is to minimize the total transportation cost:\n",
    "$$\\min{\\sum_{i,j} c_{ij}\\cdot x_{ij}}.$$"
   ]
  },
  {
   "cell_type": "markdown",
   "metadata": {},
   "source": [
    "## Additional conditions\n",
    "\n",
    "* AC1) SoyKing does not have to meet the demand of all DCs in full. But for each ton of soy demanded and not supplied, SoyKing pays a penalty as provided in the \"Not Supplying Penalty\" column of the \"demands\" table:\n"
   ]
  }
 ],
 "metadata": {
  "kernelspec": {
   "display_name": "Python 3 (ipykernel)",
   "language": "python",
   "name": "python3"
  },
  "language_info": {
   "codemirror_mode": {
    "name": "ipython",
    "version": 3
   },
   "file_extension": ".py",
   "mimetype": "text/x-python",
   "name": "python",
   "nbconvert_exporter": "python",
   "pygments_lexer": "ipython3",
   "version": "3.8.8"
  }
 },
 "nbformat": 4,
 "nbformat_minor": 4
}
