{
 "cells": [
  {
   "cell_type": "markdown",
   "metadata": {},
   "source": [
    "# Unit Commitment Problem Formulation\n",
    "\n"
   ]
  },
  {
   "cell_type": "markdown",
   "metadata": {},
   "source": [
    "### Input Data Model\n"
   ]
  },
  {
   "cell_type": "markdown",
   "metadata": {},
   "source": [
    "#### Indices\n",
    "- $I$: Collection of generators.\n",
    "- $T$: Collection of time periods."
   ]
  },
  {
   "cell_type": "markdown",
   "metadata": {},
   "source": [
    "#### Parameters\n",
    "- $d_t$: Demand for electric power (MW) in Period $t$.\n",
    "- $pl_i$: Minimum power output (MW) of Generator $i$ when operating.\n",
    "- $pu_i$: Maximum power output (MW) of Generator $i$.\n",
    "- $cp_{i}$: Production cost (dollar/MW) of Generator $i$.\n",
    "- $cu_{i}$: Startup cost (dollar/MW) of Generator $i$.\n",
    "- $cd_{i}$: Shutdown cost (dollar/MW) of Generator $i$.\n",
    "- $tu_{i}$: Minimum number of periods that Generator $i$ must be up before it can be shut down.\n",
    "- $td_{i}$: Minimum number of periods that Generator $i$ must be down before it can be started up."
   ]
  },
  {
   "cell_type": "markdown",
   "metadata": {},
   "source": [
    "### Decision Variables\n",
    "- $x_{it}$:\tPower production (MW) of Generator $i$ in Period $t$.\n",
    "- $y_{it}$: Equals $1$ if Generator $i$ is turned on in Period $t$, $0$ otherwise.\n",
    "- $z_{it}$: Equals $1$ if Generator $i$ is on in Period $t$, $0$ otherwise.\n",
    "- $w_{it}$: Equals $1$ if Generator $i$ is turned off in Period $t$, $0$ otherwise."
   ]
  },
  {
   "cell_type": "markdown",
   "metadata": {},
   "source": [
    "### Constraints\n",
    "* C1) Demand for power in Period $t$:\n",
    "    $$\\sum_i x_{it} \\geq d_{t}, \\quad \\forall t.$$\n",
    "\n",
    "* C2) If Generator $i$ is turned on in Period $t$, then it's on for $tu_i$ periods:\n",
    "    $$y_{it} \\leq z_{it'}, \\quad \\forall i, t, t' \\in[t,t+tu_i-1].$$\n",
    "    Alternative (aggregated version):\n",
    "    $$tu_i \\cdot y_{it} \\leq \\sum_{t\\leq t' \\leq t+tu_i-1}z_{it'}, \\quad \\forall i, t.$$\n",
    "\n",
    "* C3) If Generator $i$ is turned off in Period $t$, then it's off for $td_i$ periods:\n",
    "    $$w_{it} \\leq 1-z_{it'}, \\quad \\forall i, t, t' \\in[t,t+td_i-1].$$\n",
    "    \n",
    "* C4) Production of Generator $i$ must be between its lower and upper bounds:\n",
    "    $$pl_i \\cdot z_{it} \\leq x_{it} \\leq pu_i \\cdot z_{it}, \\quad \\forall i, t.$$\n",
    "    \n",
    "* C5) If Generator $i$ is off in Period $t-1$ and on in Period $t$, then it has been turned on:    \n",
    "    $$z_{it} - z_{it-1} \\leq y_{it}, \\quad \\forall i, t.$$\n",
    "\n",
    "* C6) If Generator $i$ is on in Period $t-1$ and off in Period $t$, then it has been turned off: \n",
    "    $$ z_{it-1} - z_{it} \\leq w_{it}, \\quad \\forall i, t.$$"
   ]
  },
  {
   "cell_type": "markdown",
   "metadata": {},
   "source": [
    "### Objective\n",
    "The goal is to minimize the total operation cost:\n",
    "$$\\min{\\sum_{it} cp_{i} \\cdot x_{it} + cu_i \\cdot y_{it} + cd_{i} \\cdot w_{it}}.$$"
   ]
  }
 ],
 "metadata": {
  "kernelspec": {
   "display_name": "Python 3 (ipykernel)",
   "language": "python",
   "name": "python3"
  },
  "language_info": {
   "codemirror_mode": {
    "name": "ipython",
    "version": 3
   },
   "file_extension": ".py",
   "mimetype": "text/x-python",
   "name": "python",
   "nbconvert_exporter": "python",
   "pygments_lexer": "ipython3",
   "version": "3.9.5"
  }
 },
 "nbformat": 4,
 "nbformat_minor": 2
}
