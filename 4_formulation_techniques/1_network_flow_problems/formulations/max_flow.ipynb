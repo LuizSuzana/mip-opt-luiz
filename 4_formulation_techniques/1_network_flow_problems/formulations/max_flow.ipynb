{
 "cells": [
  {
   "cell_type": "markdown",
   "metadata": {},
   "source": [
    "# Formulation Mip Ex - Max Flow\n",
    "![MipEx](../docs/MipEx.png)"
   ]
  },
  {
   "cell_type": "markdown",
   "metadata": {},
   "source": [
    "### Input Data Model\n"
   ]
  },
  {
   "cell_type": "markdown",
   "metadata": {},
   "source": [
    "#### Indices\n",
    "- $I$: Collection of sites.\n",
    "- $S$: Collection of stations.\n",
    "- $H$: Collection of hubs."
   ]
  },
  {
   "cell_type": "markdown",
   "metadata": {},
   "source": [
    "#### Parameters\n",
    "- $au_{ij}$: Capacity (in number of truck) on arc ($i$, $j$)."
   ]
  },
  {
   "cell_type": "markdown",
   "metadata": {},
   "source": [
    "### Decision Variables\n",
    "- $x_{ij}$:\tNumber of trucks that goes from Site $i$ to Site $j$."
   ]
  },
  {
   "cell_type": "markdown",
   "metadata": {},
   "source": [
    "### Constraints\n",
    "* C1) Conservation of flow:\n",
    "$$\\sum_i x_{ih} = \\sum_j x_{hj}, \\quad \\forall h \\in H.$$\n",
    "\n",
    "* C2) Arcs capacity:\n",
    "$$x_{ij} \\leq au_{ij}, \\quad \\forall i, j.$$\n",
    "\n",
    "* C3) No flow from Station 2:\n",
    "$$\\sum_j x_{2j} = 0.$$\n",
    "\n",
    "* C4) No flow to Station 4:\n",
    "$$\\sum_i x_{i4} = 0.$$"
   ]
  },
  {
   "cell_type": "markdown",
   "metadata": {},
   "source": [
    "### Objective\n",
    "The goal is to maximize the total flow:\n",
    "$$\\max{\\sum_i x_{i5}}.$$"
   ]
  }
 ],
 "metadata": {
  "kernelspec": {
   "display_name": "Python 3 (ipykernel)",
   "language": "python",
   "name": "python3"
  },
  "language_info": {
   "codemirror_mode": {
    "name": "ipython",
    "version": 3
   },
   "file_extension": ".py",
   "mimetype": "text/x-python",
   "name": "python",
   "nbconvert_exporter": "python",
   "pygments_lexer": "ipython3",
   "version": "3.9.5"
  }
 },
 "nbformat": 4,
 "nbformat_minor": 2
}
