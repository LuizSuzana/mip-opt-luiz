{
 "cells": [
  {
   "cell_type": "markdown",
   "id": "4c655902",
   "metadata": {},
   "source": [
    "1. I've been thinking about a possible alternative to the DFJ constraints, which hopefully would do the same job \n",
    "(prevent sub-tours) but as a slightly different set of constraints: for each subset S of nodes (except unitary sets \n",
    "   and the sets containing all the nodes to be visited), we add the constraint \\sum_ij x_ij >= 1, where the \n",
    "   summation is over origin nodes \"i\" in the set S and destination nodes \"j\" in the complement of S. Intuitively, this seems to prevent us of having disconnected cycles. \n",
    "\n",
    "These constraints can be used in question 2) without removing the solution which takes both edges C8 -> C9 and C9 -> C8.\n",
    "\n",
    "2. Let's say we have one more city (call it \"City 9\", C9 for short) which is a remote city, that is, either there is \n",
    "just one edge leading to C9, let's say C8 -> C9 and C9 -> C8, or there are more edges but very expensive ones. This way, since preventing sub-tours through DFJ or MTZ in particular avoids the salesman to take both edges C8 -> C9 and C9 -> C8, we could have an infeasible model or a not optimal solution in practice, i.e., it would probably be better (or necessary) to indeed take both edges C8 -> C9 and C9 -> C8. What should we do in this case?\n",
    "\n",
    "   **Answer:** there are a few options: \n",
    "\n",
    "\n",
    "\n",
    "2. I've been thinking about a possible alternative to the DFJ constraints, which hopefully would do the same job \n",
    "(prevent sub-tours) but as a slightly different set of constraints: for each subset S of nodes (except unitary sets and the sets containing all the nodes to be visited), we add the constraint \\sum_ij x_ij >= 1, where the summation is over origin nodes \"i\" in the set S and destination nodes \"j\" in the complement of S. Intuitively, this seems to prevent us of having disconnected cycles.\n",
    "These constraints could be used in question 1) without removing the solution which takes both edges C8 -> C9 and C9 -> C8.\n",
    "\n",
    "3. I have another formulation to propose (for the salesman problem): let's define x_ij as the number of times (integer, non-negative) the salesman takes the edge from node \"i\" to node \"j\" (it was binary previously, indicating that it would be at most one. Now I'm proposing that we can take the same edge more than one time). The idea is to allow the salesman to visit the same node and take the same edge more than one time. The flow balance constraint remains the same, and the constraint to ensure the salesman will visit the necessary nodes would be: \\sum_j x_ij >= 1 for each node \"i\", i.e., it departs from each node (that is has to visit) at least one.\n",
    "Now, the sub-tour elimination constraints could be those presented in 2), instead of the other DFJ.\n",
    "\n",
    "4. In case our network has at least one node that the salesman don't necessarily need to visit, say City 10 (C10), adding DFJ constraints for ALL subsets (except unitary ones and the whole set of nodes) would remove those feasible solutions that don't visit C10 (because moving, for example, in the order C1, C2, C3, ..., C7, C8, C1 is a indeed a cycle, but it's a special cycle we don't want to remove).\n",
    "In this case, I guess the solution is to add the DFJ constraints to all subsets of nodes, except those unitary, and also except those subsets that contain all the nodes to be visited."
   ]
  },
  {
   "cell_type": "markdown",
   "id": "f75c62b1",
   "metadata": {},
   "source": [
    "## About DFJ sub-tour elimination\n",
    "\n",
    "I guess the main problem regarding sub-tours is not the cycles, but the disconnection between the moves, \n",
    "which in practice doesn't make any sense, because the salesperson would need to teleport from one set of nodes to the other. Cycles seem to be unpleasant, but in some situations they are cheaper/unavoidable (e.g. in case there are remote cities which just one arriving edge), and if a cycle leads to a more expensive solution, the objective function may take care of eliminating it.\n",
    "\n",
    "This way, a set of constraints that makes more sense to me in order to eliminate **disconnection** in the **TSP** problem (i.e., depart from the origin, visit all nodes, and come back to the origin) is:\n",
    "\n",
    "**Remark**: in the TSP, this alternative set of constraints is equivalent to the standard one:\n",
    "$$ \\sum_{i\\in U,\\; j\\in U} x_{ij} \\leq |U| - 1, \\quad \\forall\\; U \\subset V, \\; 2 \\leq |U| \\leq |V|-2 $$\n"
   ]
  },
  {
   "cell_type": "code",
   "execution_count": null,
   "id": "4db304cc",
   "metadata": {},
   "outputs": [],
   "source": []
  }
 ],
 "metadata": {
  "kernelspec": {
   "display_name": "Python 3 (ipykernel)",
   "language": "python",
   "name": "python3"
  },
  "language_info": {
   "codemirror_mode": {
    "name": "ipython",
    "version": 3
   },
   "file_extension": ".py",
   "mimetype": "text/x-python",
   "name": "python",
   "nbconvert_exporter": "python",
   "pygments_lexer": "ipython3",
   "version": "3.9.12"
  }
 },
 "nbformat": 4,
 "nbformat_minor": 5
}
