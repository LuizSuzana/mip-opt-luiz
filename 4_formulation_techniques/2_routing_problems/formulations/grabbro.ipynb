{
 "cells": [
  {
   "cell_type": "markdown",
   "metadata": {},
   "source": [
    "# GrabBro Formulation\n",
    "\n",
    "Problem statement: https://www.mipwise.com/use-cases/grabbro"
   ]
  },
  {
   "cell_type": "markdown",
   "metadata": {},
   "source": [
    "## Formulation"
   ]
  },
  {
   "cell_type": "markdown",
   "metadata": {},
   "source": [
    "### Input Data Model\n",
    "\n",
    "#### Set of indices\n",
    "- $I$ - Set of locations ($i$ and $j$ for gorcery shops and $H$ for the hotel).\n",
    "- $K$ - Set of grocery items.\n",
    "\n",
    "#### Parameters\n",
    "* $p_{ik}$ - Cost of item $k$ in shop $i$.\n",
    "* $c_{ij}$ - Transit cost between location $i$ and $j$."
   ]
  },
  {
   "cell_type": "markdown",
   "metadata": {},
   "source": [
    "### Decision Variables\n",
    "- $x_{ij}$\t- Equals $1$ if driver goes from location $i$ to location $j$, $0$ otherwise.\n",
    "- $y_{ik}$\t- Equals $1$ if driver buys item $k$ in shop $i$; $0$ otherwise.\n",
    "- $z_i$ - Equals $1$ if driver visits site $i$; $0$ otherwise."
   ]
  },
  {
   "cell_type": "markdown",
   "metadata": {},
   "source": [
    "### Constraints\n",
    "* C1) Driver departs from the hotel:\n",
    "$$\\sum_j x_{Hj} = 1.$$\n",
    "\n",
    "* C2) Driver must return to the hotel:\n",
    "$$\\sum_i x_{iH} = 1.$$\n",
    "\n",
    "* C3) Flow balance constraint for each location:\n",
    "$$\\sum_i x_{il} = \\sum_j x_{lj}, \\quad \\forall l \\in I.$$\n",
    "\n",
    "* C4) Each item must be bought in exactly one shop:\n",
    "$$ \\sum_i y_{ik} = 1, \\quad \\forall k $$\n",
    "\n",
    "* C5) If driver visits shop $j$, then he should get there:\n",
    "$$ z_j \\leq \\sum_i x_{ij}, \\quad \\forall j $$\n",
    "\n",
    "* C6) If driver buys an item at shop $i$, then he should visit it:\n",
    "$$ Mz_i \\geq \\sum_{k}y_{ik}, \\quad \\forall i $$\n",
    "\n",
    "**Remark**: A cleaner formulation doesn't include $z_i$ variables, and instead of constraints 5) and 6), one might consider the following:\n",
    "$$ y_{ik} \\leq \\sum_{j} x_{ij}, \\quad \\forall i,k $$ \n"
   ]
  },
  {
   "cell_type": "markdown",
   "metadata": {},
   "source": [
    "### Objective\n",
    "The objective is to minimize the total purchasing and travel cost.\n",
    "$$\\min{\\sum_{ij}c_{ij} x_{ij} + \\sum_{ik} y_{ik} p_{ik}}.$$"
   ]
  }
 ],
 "metadata": {
  "kernelspec": {
   "display_name": "Python 3 (ipykernel)",
   "language": "python",
   "name": "python3"
  },
  "language_info": {
   "codemirror_mode": {
    "name": "ipython",
    "version": 3
   },
   "file_extension": ".py",
   "mimetype": "text/x-python",
   "name": "python",
   "nbconvert_exporter": "python",
   "pygments_lexer": "ipython3",
   "version": "3.9.12"
  }
 },
 "nbformat": 4,
 "nbformat_minor": 2
}
