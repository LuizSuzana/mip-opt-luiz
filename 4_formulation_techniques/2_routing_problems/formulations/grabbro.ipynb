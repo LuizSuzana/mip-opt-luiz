{
 "cells": [
  {
   "cell_type": "markdown",
   "metadata": {},
   "source": [
    "# GrabBro Formulation\n",
    "\n",
    "Problem statement: https://www.mipwise.com/use-cases/grabbro"
   ]
  },
  {
   "cell_type": "markdown",
   "metadata": {},
   "source": [
    "## Formulation"
   ]
  },
  {
   "cell_type": "markdown",
   "metadata": {},
   "source": [
    "### Input Data Model\n",
    "\n",
    "#### Set of indices\n",
    "- $I$ - Set of locations ($i$ and $j$ for gorcery shops and $H$ for the hotel).\n",
    "- $K$ - Set of grocery items.\n",
    "\n",
    "#### Parameters\n",
    "* $p_{ik}$ - Cost of item $k$ in shop $i$.\n",
    "* $c_{ij}$ - Transit cost between location $i$ and $j$."
   ]
  },
  {
   "cell_type": "markdown",
   "metadata": {},
   "source": [
    "### Decision Variables\n",
    "- $x_{ij}$\t- Equals $i$ if driver goes from location $i$ to location $j$, $0$ otherwise.\n",
    "\n",
    "**OBS.: This formulation is incomplete.**"
   ]
  },
  {
   "cell_type": "markdown",
   "metadata": {},
   "source": [
    "### Constraints\n",
    "* Driver departs from the hotel:\n",
    "$$\\sum_j x_{Hj} = 1.$$\n",
    "\n",
    "* Driver must return to the hotel:\n",
    "$$\\sum_i x_{iH} = 1.$$\n",
    "\n",
    "* Flow balance constraint for each location:\n",
    "$$\\sum_i x_{il} = \\sum_j x_{lj}, \\quad \\forall l \\in I.$$"
   ]
  },
  {
   "cell_type": "markdown",
   "metadata": {},
   "source": [
    "### Objective\n",
    "The objective is to minimize the total purchasing and travel cost.\n",
    "$$\\min{\\sum_{ij}c_{ij} x_{ij}}.$$"
   ]
  }
 ],
 "metadata": {
  "kernelspec": {
   "display_name": "Python 3 (ipykernel)",
   "language": "python",
   "name": "python3"
  },
  "language_info": {
   "codemirror_mode": {
    "name": "ipython",
    "version": 3
   },
   "file_extension": ".py",
   "mimetype": "text/x-python",
   "name": "python",
   "nbconvert_exporter": "python",
   "pygments_lexer": "ipython3",
   "version": "3.9.5"
  }
 },
 "nbformat": 4,
 "nbformat_minor": 2
}
