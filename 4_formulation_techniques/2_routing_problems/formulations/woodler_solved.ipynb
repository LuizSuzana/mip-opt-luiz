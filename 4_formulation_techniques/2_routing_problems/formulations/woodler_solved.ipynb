{
 "cells": [
  {
   "cell_type": "markdown",
   "metadata": {},
   "source": [
    "# Woodler Formulation\n",
    "\n",
    "Statement of the use case: https://www.mipwise.com/use-cases/woodler\n",
    "\n",
    "\n",
    "## Formulation\n",
    "\n",
    "\n",
    "### Input Data Model\n",
    "\n",
    "#### Indices\n",
    "- $I$: Collection of sites.\n",
    "- $K$: Collection of trucks.\n",
    "- $L$: Collection of orders.\n",
    "\n",
    "#### Parameters\n",
    "* $u_k$: Capacity of truck $k$.\n",
    "* $cf_k$: Fixed cost of truck $k$.\n",
    "* $cv_k$: Variable cost of truck $k$.\n",
    "* $v_{l}$: Volume of order $l$.\n",
    "* $s_{l}$: Site of order $l$.\n",
    "* $td_{ij}$: Transit distance from site $i$ to $j$.\n",
    "* $tt_{ij}$: Transit time from site $i$ to $j$."
   ]
  },
  {
   "cell_type": "markdown",
   "metadata": {},
   "source": [
    "### Decision Variables\n",
    "* $x_{ijk}$: $1$ if truck $k$ goes from site $i$ to site $j$; $0$ otherwise.\n",
    "* $y_{kl}$: $1$ if truck $k$ delivers order $l$; $0$ otherwise.\n",
    "* $z_k$: $1$ if truck $k$ is used; $0$ otherwise."
   ]
  },
  {
   "cell_type": "markdown",
   "metadata": {},
   "source": [
    "### Constraints\n",
    "\n",
    "* C1) Every truck departs from the DC:\n",
    "    $$ \\sum_{j} x_{i_0jk} = z_k, \\quad i_0=DC, \\;\\forall k $$\n",
    "    \n",
    "    If truck $k$ is used ($z_k=1$), then it must depart from the DC, otherwise ($z_k=0$) it must not.\n",
    "\n",
    "\n",
    "* C2) At most one origin:\n",
    "$$\\sum_i x_{ijk} \\leq 1, \\quad \\forall k, j.$$\n",
    "\n",
    "* C3) At most one destination:\n",
    "$$\\sum_j x_{ijk} \\leq 1, \\quad \\forall k, i.$$\n",
    "\n",
    "* C4) Flow balance:\n",
    "$$\\sum_i x_{ihk} = \\sum_j x_{hjk}, \\quad \\forall k, h\\in I.$$\n",
    "\n",
    "* C5) Must deliver every order:\n",
    "    $$ \\sum_{k} y_{kl} = 1, \\quad \\forall l $$\n",
    "    That is, given a order $l$, there must be exactly one truck $k$ assigned.\n",
    "\n",
    "\n",
    "* C6) Relationship between $y$ and $x$:\n",
    "    $$ y_{kl} \\leq \\sum_{i} x_{is_lk}, \\quad \\forall k,l $$\n",
    "    \n",
    "    That is, if truck $k$ is assigned to order $l$ ($y_{kl} = 1$), then it must visit the site of order $l$, which is $s_l$. **Equality sign cannot be used here**, since it could lead to infeasibility, or at least to bad behavior. The reason is that, even if truck $k$ isn't assigned to a order $l$, in which case $y_{kl}=0$, it still can visit site $s_l$ due to another order (with the same site) assigned to it, or even because the truck may need to simply pass by that site to get anywhere else.\n",
    "    \n",
    "\n",
    "* C7) Relationship between $y$ and $z$:\n",
    "    $$ y_{kl} \\leq z_{k}, \\quad \\forall k,l $$\n",
    "    \n",
    "    In words: if truck $k$ is assigned to some order $l$ ($y_{kl}=1$), then we must use this truck ($z_k=1$). Same idea in the opposite direction: if truck $k$ is not used ($z_k=0$), then it cannot be assigned to any order ($y_{kl}=0, \\forall l$).\n",
    "    \n",
    "    \n",
    "* C8) Truck capacity:\n",
    "    $$ \\sum_{l} v_l \\cdot y_{kl} \\leq u_k, \\quad \\forall k$$\n"
   ]
  },
  {
   "cell_type": "markdown",
   "metadata": {},
   "source": [
    "### Additional Constraints\n",
    "\n",
    "Some additional constraints that may be redundant with the previous ones, but might help the solver.\n",
    "\n",
    "* C9) Relationship between $x$ and $z$:\n",
    "    $$ x_{ijk} \\leq z_k, \\quad \\forall i,j,k $$\n",
    "    \n",
    "    If truck $k$ is not used ($z_k=0$), then it cannot move ($x_{ijk}=0, \\forall i,j$). This prevents the solver from prescribing some vehicle to move (turn on some $x_{ijk}$) without using that vehicle, which wouldn't happen anyway due to our objective function, which tries to turn off as many $x_{ijk}$ and $z_k$ variables as possible."
   ]
  },
  {
   "cell_type": "markdown",
   "metadata": {},
   "source": [
    "### Sub-tour elimination\n",
    "\n",
    "If necessary, we add sub-tour elimination constraints, either DFJ or MTZ:\n",
    "\n",
    "* DFJ sub-tour elimination:\n",
    "    $$ \\sum_{i,j \\in S} x_{ijk} \\leq |S| - 1, \\quad \\forall k, \\;\\forall S \\subseteq I\\backslash \\{DC\\}$$ \n",
    "    \n",
    "    Notice that it's important to restrict the subsets of nodes (over which we eliminate sub-tours) to be only those sets not containing the DC. The reason is that, since we don't know which nodes each vehicle $k$ will visit, it's perfectly possible to have a cycle like DC -> S1 -> S2 -> DC, not including site S3, for example, in case the vehicle doesn't have to deliver at S3. But we couldn't have this previous cycle AND also, say, S4 <-> S5, and this bad behavior is indeed impossible by the constraint above (for $S=\\{S4, S5\\}$).\n",
    "    \n",
    "\n",
    "* MTZ sub-tour elimination:\n",
    "    $$ u_{ik} + M\\cdot x_{ijk} + 1 \\leq u_{jk}, \\quad \\forall i,j,k, \\; j\\neq DC $$\n",
    "    $$ u_{i_0, k} = z_k, \\quad \\forall k, \\; i_0 = DC $$\n",
    "    where $u_{ik}$ is an additional (integer, non-negative) variable."
   ]
  },
  {
   "cell_type": "markdown",
   "metadata": {},
   "source": [
    "\n",
    "### Objective\n",
    "The objective is to minimize the total cost.\n",
    "* $\\text{fixed_cost} = \\sum_{k} cf_k \\cdot z_k$\n",
    "* $\\text{variable_cost} = \\sum_{ijk} cv_k\\cdot td_{ij}\\cdot x_{ijk}$\n",
    "$$\\min{\\text{fixed_cost} + \\text{variable_cost}}.$$\n"
   ]
  }
 ],
 "metadata": {
  "kernelspec": {
   "display_name": "Python 3 (ipykernel)",
   "language": "python",
   "name": "python3"
  },
  "language_info": {
   "codemirror_mode": {
    "name": "ipython",
    "version": 3
   },
   "file_extension": ".py",
   "mimetype": "text/x-python",
   "name": "python",
   "nbconvert_exporter": "python",
   "pygments_lexer": "ipython3",
   "version": "3.9.12"
  }
 },
 "nbformat": 4,
 "nbformat_minor": 2
}
