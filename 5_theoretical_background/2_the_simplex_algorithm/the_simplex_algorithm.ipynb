{
 "cells": [
  {
   "cell_type": "markdown",
   "id": "08e60203",
   "metadata": {},
   "source": [
    "# The Simplex Algorithm\n",
    "*Aster Santana - Mip Wise*  \n",
    "Jan 2022"
   ]
  },
  {
   "cell_type": "markdown",
   "id": "1b3c30f6",
   "metadata": {},
   "source": [
    "Consider the following linear program (LP) in standard form:\n",
    "$$\n",
    "\\begin{eqnarray}\n",
    "\\begin{array}{rcl}\n",
    "& \\min & c^Tx\\\\\n",
    "& \\text{s.t.}& Ax = b\\\\\n",
    "&& x \\geq 0.\n",
    "\\end{array}\n",
    "\\end{eqnarray}\n",
    "$$\n",
    "where $A$ is a $m\\times n$ matrix and $b,c$ and $x$ are vectors of appropriate length. Suppose that the rows of $A$ are linearly independent (which implies that $n\\geq m$, i.e., the LP has more variables than constraints)."
   ]
  },
  {
   "cell_type": "markdown",
   "id": "ccb288d4",
   "metadata": {},
   "source": [
    "We rewrite the LP above by decomposing the decision variables between *basic* and *non-basic* variables. Let $B$ and $N$ be the set of indices of the basic and non-basic variables, respectively, where $B$ has $m$ elements and $N$ has $n-m$ elements. Then we write $x$ as follows:\n",
    "$$\n",
    "x = \n",
    "\\begin{bmatrix}\n",
    "x_B\\\\\n",
    "x_N\n",
    "\\end{bmatrix}\n",
    "$$"
   ]
  },
  {
   "cell_type": "markdown",
   "id": "d5bfdcd3",
   "metadata": {},
   "source": [
    "Similarly we decompose $c$ and $A$ as follows:\n",
    "$$\n",
    "c = \n",
    "\\begin{bmatrix}\n",
    "c_B\\\\\n",
    "c_N\n",
    "\\end{bmatrix}, \\quad\n",
    "A = \n",
    "\\begin{bmatrix}\n",
    "A_B & A_N\n",
    "\\end{bmatrix}\n",
    "$$"
   ]
  },
  {
   "cell_type": "markdown",
   "id": "d9c09f42",
   "metadata": {},
   "source": [
    "Now we rewrite the problem as follows:\n",
    "$$\n",
    "\\begin{eqnarray}\n",
    "\\begin{array}{rcl}\n",
    "& \\min & c^T_B x_B + c^T_N x_N\\\\\n",
    "& \\text{s.t.}& A_B x_B + A_N x_N = b\\\\\n",
    "&& x_B, x_N \\geq 0.\n",
    "\\end{array}\n",
    "\\end{eqnarray}\n",
    "$$"
   ]
  },
  {
   "cell_type": "markdown",
   "id": "83ed1b42",
   "metadata": {},
   "source": [
    "Since we have assumed that the rows of $A$ are linearly independent, we know that $A_B$ is an invertible matrix. Therefore, we can rewrite the constraints as follows:\n",
    "$$\n",
    "A_B x_B + A_N x_N = b\\\\\n",
    "A_B x_B = b - A_N x_N\\\\\n",
    "x_B = A_B^{-1}(b - A_N x_N)\\\\\n",
    "x_B = A_B^{-1}b - A_B^{-1}A_N x_N.\n",
    "$$"
   ]
  },
  {
   "cell_type": "markdown",
   "id": "30f97d38",
   "metadata": {},
   "source": [
    "By using this expression for $x_B$, the objective function can be re-written as:\n",
    "$$\n",
    "\\begin{align*}\n",
    "c^T_B x_B + c^T_N x_N &= c^T_B (A_B^{-1}b - A_B^{-1}A_N x_N) + c^T_N x_N\\\\\n",
    "&= c^T_B A_B^{-1}b - c^T_BA_B^{-1}A_N x_N + c^T_N x_N\\\\\n",
    "&= c^T_B A_B^{-1}b - (c^T_BA_B^{-1}A_N - c^T_N) x_N\\\\\n",
    "&= c^T_B A_B^{-1}b + (c^T_N - c^T_BA_B^{-1}A_N) x_N.\n",
    "\\end{align*}\n",
    "$$"
   ]
  },
  {
   "cell_type": "markdown",
   "id": "c5e1ec64",
   "metadata": {},
   "source": [
    "The problem now becomes:\n",
    "$$\n",
    "\\begin{eqnarray}\n",
    "\\begin{array}{rcl}\n",
    "& \\min & c^T_B A_B^{-1}b + (c^T_N - c^T_BA_B^{-1}A_N) x_N\\\\\n",
    "& \\text{s.t.}& x_B = A_B^{-1}b - A_B^{-1}A_N x_N\\\\\n",
    "&& x_B, x_N \\geq 0.\n",
    "\\end{array}\n",
    "\\end{eqnarray}\n",
    "$$"
   ]
  },
  {
   "cell_type": "markdown",
   "id": "428e0e58",
   "metadata": {},
   "source": [
    "At any iteration of the simplex method, the non-basic variables are set to zero, i.e., $x_N=0$. As a result, the values of the basic variables are given by $x_B = A_B^{-1}b$. And the objective value is given by $c^T_B A_B^{-1}b$."
   ]
  },
  {
   "cell_type": "markdown",
   "id": "dee10c34",
   "metadata": {},
   "source": [
    "To perform a simplex iteration (which is called a pivoting), we attempt to increase one of the non-basic variables from zero. But which one should we choose?\n",
    "\n",
    "To answer this question, we need to re-write the problem using summation notation:\n",
    "$$\n",
    "\\begin{eqnarray}\n",
    "\\begin{array}{rcl}\n",
    "& \\min & c^T_B A_B^{-1}b + \\sum_{j\\in N}(c_j - c^T_BA_B^{-1}A^j) x_j\\\\\n",
    "& \\text{s.t.}& x_B = A_B^{-1}b - \\sum_{j\\in N}A_B^{-1}A^j x_j\\\\\n",
    "&& x_B \\geq 0, x_j \\geq 0, \\forall j \\in N.\n",
    "\\end{array}\n",
    "\\end{eqnarray}\n",
    "$$\n",
    "\n",
    "$$\n",
    "b^{\\top}\\pi\\\\\n",
    "A^{\\top}\\pi = c\\\\\n",
    "\\pi^{\\top}A = c\\\\\n",
    "\\pi^{\\top} = cA^{-1}\\\\\n",
    "$$"
   ]
  },
  {
   "cell_type": "markdown",
   "id": "b8d8ff64",
   "metadata": {},
   "source": [
    "From here, it’s easy to see that it only makes sense to increase from zero a non-basic variable $x_j$ if its coefficient $c_j - c^T_BA_B^{-1}A^j$ is negative. This coefficient is called the *reduced cost* of $x_j$. In fact, if the reduced cost of $x_j$ is negative, then increasing $x_j$ will decrease the objective value, which is desirable since this is a minimization problem. On the other hand, if the reduced cost of every non-basic variable is non-negative, we conclude that the current solution is optimal."
   ]
  },
  {
   "cell_type": "markdown",
   "id": "b1055ba9",
   "metadata": {},
   "source": [
    "Now that we have a way to decide which non-basic variable can be made a basic variable (i.e., pick one with negative reduced cost), suppose $x_1$ is non-basic and has negative reduced cost. From an optimization perspective, we want to increase $x_1$ as much as possible. What can stop us from increasing $x_1$ indefinitely?"
   ]
  },
  {
   "cell_type": "markdown",
   "id": "2304d492",
   "metadata": {},
   "source": [
    "The answer comes from the expression\n",
    "$$\n",
    "x_B = A_B^{-1}b - \\sum_{j\\in N}A_B^{-1}A^j x_j.\n",
    "$$\n",
    "Which is same as\n",
    "$$\n",
    "x_B = A_B^{-1}b - A_B^{-1}A^1 x_1\n",
    "$$\n",
    "since $x_j=0$ for all $j\\in N$ such that $j\\neq 1$."
   ]
  },
  {
   "cell_type": "markdown",
   "id": "39583099",
   "metadata": {},
   "source": [
    "Therefore, if the vector $A_B^{-1}A^1$ has any positive component, as we increase $x_1$ the corresponding basic variables on the right-hand-side will decrease, and eventually one of them will reach zero and become a non-basic variable! If we were to keep increasing $x_1$, then some basic variables would become negative, which is not allowed as all variables must be non-negative. This completes one iteration of the simplex method."
   ]
  }
 ],
 "metadata": {
  "kernelspec": {
   "display_name": "Python 3 (ipykernel)",
   "language": "python",
   "name": "python3"
  },
  "language_info": {
   "codemirror_mode": {
    "name": "ipython",
    "version": 3
   },
   "file_extension": ".py",
   "mimetype": "text/x-python",
   "name": "python",
   "nbconvert_exporter": "python",
   "pygments_lexer": "ipython3",
   "version": "3.9.5"
  }
 },
 "nbformat": 4,
 "nbformat_minor": 5
}
