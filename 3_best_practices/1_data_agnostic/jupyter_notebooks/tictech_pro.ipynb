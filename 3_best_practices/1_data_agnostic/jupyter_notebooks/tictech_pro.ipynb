{
 "cells": [
  {
   "cell_type": "markdown",
   "metadata": {},
   "source": [
    "# TicTech\n",
    "\n",
    "Mr. Mip has been contacted by *TicTech*, an organization that is now going through a digital transformation and needs to make an important decision. They need to decide on the right type of technology that will support them making complex decisions as their business grow.\n",
    "\n",
    "After reading a [blog](https://medium.com/opex-analytics/purpose-built-apps-for-enterprise-decision-making-31ccadad362d) about technologies for decision-making, Mr. Mip arrived at three options:\n",
    "1. Consulting services\n",
    "2. Off-the-shelf software\n",
    "3. Purpose-built web applications (Apps)\n",
    "\n",
    "By analyzing pos and cons of each technology in the context of TicTech, Mr. Mip derived in collaboration with the client a score to each technology as follows: \n",
    "\n",
    "| **Technology ID** | **Technology** | **Score** |\n",
    "|:-----------------:|:---------------|:---------:|\n",
    "|         1         | Consulting     |    12     |\n",
    "|         2         | Software       |    17     |\n",
    "|         3         | Apps           |    25     |\n",
    "\n",
    "\n",
    "What technology should be selected?\n",
    "\n",
    "Assuming that Mr. Mip can only recommend one technology and the goal is to maximize the score, it’s obvious that TicTech should choose apps. \n",
    "\n",
    "Now, let’s see how to model this problem using mathematical formulation."
   ]
  },
  {
   "cell_type": "markdown",
   "metadata": {},
   "source": [
    "## Formulation\n",
    "Here is a generic formulation for the TicTech problem."
   ]
  },
  {
   "cell_type": "markdown",
   "metadata": {},
   "source": [
    "### Input data model\n",
    "\n",
    "#### Sets\n",
    "* $I$ - Set of technologies\n",
    "\n",
    "#### Parameters\n",
    "* $s_i$ - Score assined to technology $i$\n"
   ]
  },
  {
   "cell_type": "markdown",
   "metadata": {},
   "source": [
    "### Decision Variables\n",
    "\n",
    "- $x_i$ - Equals $1$ if technology $i$ is chosen, $0$ otherwise."
   ]
  },
  {
   "cell_type": "markdown",
   "metadata": {},
   "source": [
    "### Constraints\n",
    "\n",
    "* Exactly one technology:\n",
    "$$\\sum_i x_i = 1.$$"
   ]
  },
  {
   "cell_type": "markdown",
   "metadata": {},
   "source": [
    "### Objective\n",
    "The objective of this problem is to maximize the score:\n",
    "\n",
    "$$\\max{\\sum_i s_i x_i}.$$"
   ]
  },
  {
   "cell_type": "markdown",
   "metadata": {},
   "source": [
    "### Final Formulation\n",
    "Putting all together, we arrive at the following formulation.\n",
    "$$\n",
    "\\begin{align*}\n",
    "\\min & \\quad \\sum_i s_i x_i\\\\\n",
    "\\text{s.t.} & \\quad \\sum_i x_i =1\\\\\n",
    "&x_i \\in \\{0, 1\\}, \\quad \\forall i.\n",
    "\\end{align*}\n",
    "$$"
   ]
  }
 ],
 "metadata": {
  "kernelspec": {
   "display_name": "Python 3 (ipykernel)",
   "language": "python",
   "name": "python3"
  },
  "language_info": {
   "codemirror_mode": {
    "name": "ipython",
    "version": 3
   },
   "file_extension": ".py",
   "mimetype": "text/x-python",
   "name": "python",
   "nbconvert_exporter": "python",
   "pygments_lexer": "ipython3",
   "version": "3.9.5"
  }
 },
 "nbformat": 4,
 "nbformat_minor": 2
}
